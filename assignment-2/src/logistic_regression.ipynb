{
 "cells": [
  {
   "cell_type": "markdown",
   "metadata": {},
   "source": [
    "# Logistic Regression"
   ]
  },
  {
   "cell_type": "code",
   "execution_count": 1,
   "metadata": {},
   "outputs": [],
   "source": [
    "# system tools\n",
    "import os\n",
    "import sys\n",
    "sys.path.append(\"..\")\n",
    "\n",
    "# data munging tools\n",
    "import pandas as pd\n",
    "import utils.classifier_utils as clf\n",
    "\n",
    "# machine learning stuff\n",
    "from sklearn.feature_extraction.text import CountVectorizer, TfidfVectorizer\n",
    "from sklearn.linear_model import LogisticRegression\n",
    "from sklearn.model_selection import train_test_split, ShuffleSplit\n",
    "from sklearn import metrics\n",
    "\n",
    "# visualisation\n",
    "import matplotlib.pyplot as plt"
   ]
  },
  {
   "cell_type": "code",
   "execution_count": 2,
   "metadata": {},
   "outputs": [],
   "source": [
    "# reading in data\n",
    "filename = os.path.join(\"..\",\"..\",\"..\",\"..\", \"cds-language\", \"data\",\"fake_or_real_news.csv\")\n",
    "\n",
    "data = pd.read_csv(filename, index_col=0)"
   ]
  },
  {
   "cell_type": "code",
   "execution_count": 3,
   "metadata": {},
   "outputs": [
    {
     "data": {
      "text/html": [
       "<div>\n",
       "<style scoped>\n",
       "    .dataframe tbody tr th:only-of-type {\n",
       "        vertical-align: middle;\n",
       "    }\n",
       "\n",
       "    .dataframe tbody tr th {\n",
       "        vertical-align: top;\n",
       "    }\n",
       "\n",
       "    .dataframe thead th {\n",
       "        text-align: right;\n",
       "    }\n",
       "</style>\n",
       "<table border=\"1\" class=\"dataframe\">\n",
       "  <thead>\n",
       "    <tr style=\"text-align: right;\">\n",
       "      <th></th>\n",
       "      <th>title</th>\n",
       "      <th>text</th>\n",
       "      <th>label</th>\n",
       "    </tr>\n",
       "  </thead>\n",
       "  <tbody>\n",
       "    <tr>\n",
       "      <th>2532</th>\n",
       "      <td>City, County Leaders Ask Court To Lift Injunct...</td>\n",
       "      <td>WASHINGTON -- Leaders from more than 70 cities...</td>\n",
       "      <td>REAL</td>\n",
       "    </tr>\n",
       "    <tr>\n",
       "      <th>4291</th>\n",
       "      <td>Trump says Cruz’s Canadian birth could be ‘ver...</td>\n",
       "      <td>Donald Trump said in an interview that rival T...</td>\n",
       "      <td>REAL</td>\n",
       "    </tr>\n",
       "    <tr>\n",
       "      <th>5475</th>\n",
       "      <td>U.S. calls for special Intermediate-range Nucl...</td>\n",
       "      <td>Thu, 27 Oct 2016 15:29 UTC The United States h...</td>\n",
       "      <td>FAKE</td>\n",
       "    </tr>\n",
       "    <tr>\n",
       "      <th>7543</th>\n",
       "      <td>TRANSPARENCY! Report: Loretta Lynch won’t tell...</td>\n",
       "      <td>won’t   Posted at 12:07 pm   Doug P. \\nSomeh...</td>\n",
       "      <td>FAKE</td>\n",
       "    </tr>\n",
       "    <tr>\n",
       "      <th>30</th>\n",
       "      <td>Abortion bill dropped amid concerns of female ...</td>\n",
       "      <td>This item has been updated.\\n\\nHouse Republica...</td>\n",
       "      <td>REAL</td>\n",
       "    </tr>\n",
       "    <tr>\n",
       "      <th>6389</th>\n",
       "      <td>Reinventing Democracy in America Starts by Vot...</td>\n",
       "      <td>Reinventing Democracy in America Starts by Vot...</td>\n",
       "      <td>FAKE</td>\n",
       "    </tr>\n",
       "    <tr>\n",
       "      <th>3903</th>\n",
       "      <td>Obama Addresses Vaccinations, Other Issues In ...</td>\n",
       "      <td>President Barack Obama on Sunday encouraged pa...</td>\n",
       "      <td>REAL</td>\n",
       "    </tr>\n",
       "    <tr>\n",
       "      <th>10372</th>\n",
       "      <td>Police Family Fakes Robbery, Vandalizes Own Ho...</td>\n",
       "      <td>Home / Badge Abuse / Police Family Fakes Robbe...</td>\n",
       "      <td>FAKE</td>\n",
       "    </tr>\n",
       "    <tr>\n",
       "      <th>10497</th>\n",
       "      <td>3 Charlotte Area Counties Report Voting Machin...</td>\n",
       "      <td>MecklenburgCatawba \\nThe complaints noted that...</td>\n",
       "      <td>FAKE</td>\n",
       "    </tr>\n",
       "    <tr>\n",
       "      <th>9208</th>\n",
       "      <td>Hillary and Bill Clinton: The «Bonnie and Clyd...</td>\n",
       "      <td>Wayne MADSEN | 03.11.2016 | WORLD Hillary and ...</td>\n",
       "      <td>FAKE</td>\n",
       "    </tr>\n",
       "  </tbody>\n",
       "</table>\n",
       "</div>"
      ],
      "text/plain": [
       "                                                   title  \\\n",
       "2532   City, County Leaders Ask Court To Lift Injunct...   \n",
       "4291   Trump says Cruz’s Canadian birth could be ‘ver...   \n",
       "5475   U.S. calls for special Intermediate-range Nucl...   \n",
       "7543   TRANSPARENCY! Report: Loretta Lynch won’t tell...   \n",
       "30     Abortion bill dropped amid concerns of female ...   \n",
       "6389   Reinventing Democracy in America Starts by Vot...   \n",
       "3903   Obama Addresses Vaccinations, Other Issues In ...   \n",
       "10372  Police Family Fakes Robbery, Vandalizes Own Ho...   \n",
       "10497  3 Charlotte Area Counties Report Voting Machin...   \n",
       "9208   Hillary and Bill Clinton: The «Bonnie and Clyd...   \n",
       "\n",
       "                                                    text label  \n",
       "2532   WASHINGTON -- Leaders from more than 70 cities...  REAL  \n",
       "4291   Donald Trump said in an interview that rival T...  REAL  \n",
       "5475   Thu, 27 Oct 2016 15:29 UTC The United States h...  FAKE  \n",
       "7543     won’t   Posted at 12:07 pm   Doug P. \\nSomeh...  FAKE  \n",
       "30     This item has been updated.\\n\\nHouse Republica...  REAL  \n",
       "6389   Reinventing Democracy in America Starts by Vot...  FAKE  \n",
       "3903   President Barack Obama on Sunday encouraged pa...  REAL  \n",
       "10372  Home / Badge Abuse / Police Family Fakes Robbe...  FAKE  \n",
       "10497  MecklenburgCatawba \\nThe complaints noted that...  FAKE  \n",
       "9208   Wayne MADSEN | 03.11.2016 | WORLD Hillary and ...  FAKE  "
      ]
     },
     "execution_count": 3,
     "metadata": {},
     "output_type": "execute_result"
    }
   ],
   "source": [
    "# checking data\n",
    "data.sample(10)"
   ]
  },
  {
   "cell_type": "code",
   "execution_count": 4,
   "metadata": {},
   "outputs": [],
   "source": [
    "# data variables containing text and labels\n",
    "X = data[\"text\"]\n",
    "y = data[\"label\"]"
   ]
  },
  {
   "cell_type": "code",
   "execution_count": 5,
   "metadata": {},
   "outputs": [],
   "source": [
    "# creating a 80/20 train-test split\n",
    "X_train, X_test, y_train, y_test = train_test_split(X,           # texts for the model\n",
    "                                                    y,          # classification labels\n",
    "                                                    test_size=0.2,   # create an 80/20 split\n",
    "                                                    random_state=42) # random state for reproducibility"
   ]
  },
  {
   "cell_type": "code",
   "execution_count": 6,
   "metadata": {},
   "outputs": [],
   "source": [
    "# creating vectorizer object in order to turn text into a vector of number\n",
    "vectorizer = TfidfVectorizer(ngram_range = (1,2),     # unigrams and bigrams\n",
    "                             lowercase =  True,       # avoid word differentiation by capitalization \n",
    "                             max_df = 0.95,           # remove very common words\n",
    "                             min_df = 0.05,           # remove very rare words\n",
    "                             max_features = 100)      # keep top 100 features"
   ]
  },
  {
   "cell_type": "code",
   "execution_count": 7,
   "metadata": {},
   "outputs": [],
   "source": [
    "# fit vector number to training data\n",
    "X_train_feats = vectorizer.fit_transform(X_train)\n",
    "\n",
    "# fit vector number to test data\n",
    "X_test_feats = vectorizer.transform(X_test)\n",
    "\n",
    "# get feature names\n",
    "feature_names = vectorizer.get_feature_names_out()\n"
   ]
  },
  {
   "cell_type": "code",
   "execution_count": 8,
   "metadata": {},
   "outputs": [],
   "source": [
    "# fit logistic regression classifier to training data\n",
    "classifier = LogisticRegression(random_state=42).fit(X_train_feats, y_train)"
   ]
  },
  {
   "cell_type": "code",
   "execution_count": 9,
   "metadata": {},
   "outputs": [
    {
     "name": "stdout",
     "output_type": "stream",
     "text": [
      "['FAKE' 'FAKE' 'FAKE' 'FAKE' 'FAKE' 'FAKE' 'REAL' 'FAKE' 'REAL' 'FAKE'\n",
      " 'REAL' 'REAL' 'REAL' 'FAKE' 'REAL' 'REAL' 'FAKE' 'REAL' 'REAL' 'REAL']\n"
     ]
    }
   ],
   "source": [
    "# test classifier on test data\n",
    "y_pred = classifier.predict(X_test_feats)\n",
    "print(y_pred[:20])"
   ]
  },
  {
   "cell_type": "code",
   "execution_count": 10,
   "metadata": {},
   "outputs": [
    {
     "name": "stdout",
     "output_type": "stream",
     "text": [
      "FAKE\t\t\t\tREAL\n",
      "\n",
      "-4.3803\tby             \t\t5.3471\trepublican     \n",
      "-3.6202\tus             \t\t5.2193\tsaid           \n",
      "-2.7769\tyou            \t\t3.7399\tobama          \n",
      "-2.6218\tjust           \t\t3.4983\tstate          \n",
      "-2.1811\tthis           \t\t2.8368\twho            \n",
      "-1.8911\tbe             \t\t2.7182\tthat           \n",
      "-1.7431\tto the         \t\t2.6008\tpresident      \n",
      "-1.7128\tthat the       \t\t2.3978\tthan           \n",
      "-1.6080\twith           \t\t2.1384\tcampaign       \n",
      "-1.5910\tinto           \t\t2.1343\tmore           \n",
      "-1.4974\tbeen           \t\t2.1314\tparty          \n",
      "-1.3538\tis             \t\t2.1239\ttwo            \n",
      "-1.3343\twas            \t\t2.0176\ton the         \n",
      "-1.3270\twhich          \t\t1.8099\tstates         \n",
      "-1.1413\tof             \t\t1.7531\tcould          \n",
      "-1.0842\tnow            \t\t1.7189\tmost           \n",
      "-1.0386\ttheir          \t\t1.6430\the             \n",
      "-0.9210\tthey           \t\t1.6219\tin             \n",
      "-0.8902\tso             \t\t1.5984\tshe            \n"
     ]
    }
   ],
   "source": [
    "# check which features the model regards as predicting fake or real news\n",
    "clf.show_features(vectorizer, y_train, classifier, n = 20)"
   ]
  },
  {
   "cell_type": "code",
   "execution_count": 11,
   "metadata": {},
   "outputs": [
    {
     "data": {
      "text/plain": [
       "<sklearn.metrics._plot.confusion_matrix.ConfusionMatrixDisplay at 0x7f3b98269750>"
      ]
     },
     "execution_count": 11,
     "metadata": {},
     "output_type": "execute_result"
    },
    {
     "data": {
      "image/png": "[encoded data removed]",
      "text/plain": [
       "<Figure size 640x480 with 2 Axes>"
      ]
     },
     "metadata": {},
     "output_type": "display_data"
    }
   ],
   "source": [
    "# evaluate model with confusion matrix\n",
    "metrics.ConfusionMatrixDisplay.from_estimator(classifier,           # the classifier name\n",
    "                                            X_train_feats,          # the training features\n",
    "                                            y_train,                # the training labels\n",
    "                                            cmap=plt.cm.Blues,      # make the colours prettier\n",
    "                                            labels=[\"FAKE\", \"REAL\"])# the labels in your data arranged alphabetically"
   ]
  },
  {
   "cell_type": "code",
   "execution_count": 12,
   "metadata": {},
   "outputs": [
    {
     "name": "stdout",
     "output_type": "stream",
     "text": [
      "              precision    recall  f1-score   support\n",
      "\n",
      "        FAKE       0.84      0.81      0.82       628\n",
      "        REAL       0.82      0.85      0.83       639\n",
      "\n",
      "    accuracy                           0.83      1267\n",
      "   macro avg       0.83      0.83      0.83      1267\n",
      "weighted avg       0.83      0.83      0.83      1267\n",
      "\n"
     ]
    }
   ],
   "source": [
    "# calculating classification report\n",
    "classifier_metrics = metrics.classification_report(y_test, y_pred)\n",
    "print(classifier_metrics)"
   ]
  },
  {
   "cell_type": "code",
   "execution_count": 17,
   "metadata": {},
   "outputs": [
    {
     "data": {
      "text/plain": [
       "['../models/tfidf_vectorizer.joblib']"
      ]
     },
     "execution_count": 17,
     "metadata": {},
     "output_type": "execute_result"
    }
   ],
   "source": [
    "# save model\n",
    "from joblib import dump, load\n",
    "dump(classifier, \"../models/LR_classifier.joblib\")\n",
    "dump(vectorizer, \"../models/tfidf_vectorizer.joblib\")"
   ]
  },
  {
   "cell_type": "code",
   "execution_count": 13,
   "metadata": {},
   "outputs": [],
   "source": [
    "# save classification report\n",
    "f = open(\"../out/Classification_Report_LogReg.txt\", \"w\")\n",
    "f.write(classifier_metrics)\n",
    "f.close()"
   ]
  }
 ],
 "metadata": {
  "kernelspec": {
   "display_name": "Python 3",
   "language": "python",
   "name": "python3"
  },
  "language_info": {
   "codemirror_mode": {
    "name": "ipython",
    "version": 3
   },
   "file_extension": ".py",
   "mimetype": "text/x-python",
   "name": "python",
   "nbconvert_exporter": "python",
   "pygments_lexer": "ipython3",
   "version": "3.10.12"
  }
 },
 "nbformat": 4,
 "nbformat_minor": 2
}
