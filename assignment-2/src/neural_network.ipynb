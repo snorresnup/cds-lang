{
 "cells": [
  {
   "cell_type": "markdown",
   "metadata": {},
   "source": [
    "# Neural Network"
   ]
  },
  {
   "cell_type": "code",
   "execution_count": 9,
   "metadata": {},
   "outputs": [],
   "source": [
    "# system tools\n",
    "import os\n",
    "import sys\n",
    "sys.path.append(\"..\")\n",
    "\n",
    "# data munging tools\n",
    "import pandas as pd\n",
    "import utils.classifier_utils as clf\n",
    "\n",
    "# machine learning stuff\n",
    "from sklearn.model_selection import train_test_split, ShuffleSplit\n",
    "from sklearn.feature_extraction.text import CountVectorizer, TfidfVectorizer\n",
    "from sklearn.linear_model import LogisticRegression\n",
    "from sklearn.neural_network import MLPClassifier\n",
    "from sklearn import metrics\n",
    "\n",
    "# visualisation\n",
    "import matplotlib.pyplot as plt"
   ]
  },
  {
   "cell_type": "code",
   "execution_count": 2,
   "metadata": {},
   "outputs": [],
   "source": [
    "# reading in data\n",
    "filename = os.path.join(\"..\",\"..\",\"..\",\"..\", \"cds-language\", \"data\",\"fake_or_real_news.csv\")\n",
    "\n",
    "data = pd.read_csv(filename, index_col=0)"
   ]
  },
  {
   "cell_type": "code",
   "execution_count": 3,
   "metadata": {},
   "outputs": [
    {
     "data": {
      "text/html": [
       "<div>\n",
       "<style scoped>\n",
       "    .dataframe tbody tr th:only-of-type {\n",
       "        vertical-align: middle;\n",
       "    }\n",
       "\n",
       "    .dataframe tbody tr th {\n",
       "        vertical-align: top;\n",
       "    }\n",
       "\n",
       "    .dataframe thead th {\n",
       "        text-align: right;\n",
       "    }\n",
       "</style>\n",
       "<table border=\"1\" class=\"dataframe\">\n",
       "  <thead>\n",
       "    <tr style=\"text-align: right;\">\n",
       "      <th></th>\n",
       "      <th>title</th>\n",
       "      <th>text</th>\n",
       "      <th>label</th>\n",
       "    </tr>\n",
       "  </thead>\n",
       "  <tbody>\n",
       "    <tr>\n",
       "      <th>2278</th>\n",
       "      <td>Ark. governor won't sign 'religious freedom' b...</td>\n",
       "      <td>LITTLE ROCK — As local and state leaders and o...</td>\n",
       "      <td>REAL</td>\n",
       "    </tr>\n",
       "    <tr>\n",
       "      <th>7618</th>\n",
       "      <td>JUST IN: Republicans Sued Over Trump’s Call To...</td>\n",
       "      <td>\\nThe Democratic National Committee just hau...</td>\n",
       "      <td>FAKE</td>\n",
       "    </tr>\n",
       "    <tr>\n",
       "      <th>774</th>\n",
       "      <td>Martha MacCallum: It's Donald Trump's moment. ...</td>\n",
       "      <td>And then there was one.\\n\\nThere is an express...</td>\n",
       "      <td>REAL</td>\n",
       "    </tr>\n",
       "    <tr>\n",
       "      <th>4028</th>\n",
       "      <td>Russia and Iran both propping up Assad. A bala...</td>\n",
       "      <td>While Russia's increased presence in Syria giv...</td>\n",
       "      <td>REAL</td>\n",
       "    </tr>\n",
       "    <tr>\n",
       "      <th>751</th>\n",
       "      <td>Hillary Clinton narrowly wins Kentucky, a stat...</td>\n",
       "      <td>For weeks, Hillary Clinton has looked for the ...</td>\n",
       "      <td>REAL</td>\n",
       "    </tr>\n",
       "    <tr>\n",
       "      <th>647</th>\n",
       "      <td>Bernie Sanders is expected to endorse Hillary ...</td>\n",
       "      <td>It's amazing to go back and watch Bernie Sande...</td>\n",
       "      <td>REAL</td>\n",
       "    </tr>\n",
       "    <tr>\n",
       "      <th>9332</th>\n",
       "      <td>Is Halloween Evil? Why Witches, Occultists And...</td>\n",
       "      <td>in: Faith , US News On October 31st, most peop...</td>\n",
       "      <td>FAKE</td>\n",
       "    </tr>\n",
       "    <tr>\n",
       "      <th>5821</th>\n",
       "      <td>Michael Moore Owes Me $4.99</td>\n",
       "      <td>Posted on October 27, 2016 by DavidSwanson \\nM...</td>\n",
       "      <td>FAKE</td>\n",
       "    </tr>\n",
       "    <tr>\n",
       "      <th>8902</th>\n",
       "      <td>The First Space Photo Of Earth - Shot From A T...</td>\n",
       "      <td>« Previous - Next » The First Space Photo Of E...</td>\n",
       "      <td>FAKE</td>\n",
       "    </tr>\n",
       "    <tr>\n",
       "      <th>4961</th>\n",
       "      <td>Opinion: The flaws of Trumpspeak</td>\n",
       "      <td>Michael D'Antonio is the author of the new boo...</td>\n",
       "      <td>REAL</td>\n",
       "    </tr>\n",
       "  </tbody>\n",
       "</table>\n",
       "</div>"
      ],
      "text/plain": [
       "                                                  title  \\\n",
       "2278  Ark. governor won't sign 'religious freedom' b...   \n",
       "7618  JUST IN: Republicans Sued Over Trump’s Call To...   \n",
       "774   Martha MacCallum: It's Donald Trump's moment. ...   \n",
       "4028  Russia and Iran both propping up Assad. A bala...   \n",
       "751   Hillary Clinton narrowly wins Kentucky, a stat...   \n",
       "647   Bernie Sanders is expected to endorse Hillary ...   \n",
       "9332  Is Halloween Evil? Why Witches, Occultists And...   \n",
       "5821                        Michael Moore Owes Me $4.99   \n",
       "8902  The First Space Photo Of Earth - Shot From A T...   \n",
       "4961                   Opinion: The flaws of Trumpspeak   \n",
       "\n",
       "                                                   text label  \n",
       "2278  LITTLE ROCK — As local and state leaders and o...  REAL  \n",
       "7618    \\nThe Democratic National Committee just hau...  FAKE  \n",
       "774   And then there was one.\\n\\nThere is an express...  REAL  \n",
       "4028  While Russia's increased presence in Syria giv...  REAL  \n",
       "751   For weeks, Hillary Clinton has looked for the ...  REAL  \n",
       "647   It's amazing to go back and watch Bernie Sande...  REAL  \n",
       "9332  in: Faith , US News On October 31st, most peop...  FAKE  \n",
       "5821  Posted on October 27, 2016 by DavidSwanson \\nM...  FAKE  \n",
       "8902  « Previous - Next » The First Space Photo Of E...  FAKE  \n",
       "4961  Michael D'Antonio is the author of the new boo...  REAL  "
      ]
     },
     "execution_count": 3,
     "metadata": {},
     "output_type": "execute_result"
    }
   ],
   "source": [
    "# checking data\n",
    "data.sample(10)"
   ]
  },
  {
   "cell_type": "code",
   "execution_count": 4,
   "metadata": {},
   "outputs": [],
   "source": [
    "# data variables containing text and labels\n",
    "X = data[\"text\"]\n",
    "y = data[\"label\"]"
   ]
  },
  {
   "cell_type": "code",
   "execution_count": 5,
   "metadata": {},
   "outputs": [],
   "source": [
    "# creating a 80/20 train-test split\n",
    "X_train, X_test, y_train, y_test = train_test_split(X,           # texts for the model\n",
    "                                                    y,          # classification labels\n",
    "                                                    test_size=0.2,   # create an 80/20 split\n",
    "                                                    random_state=42) # random state for reproducibility"
   ]
  },
  {
   "cell_type": "code",
   "execution_count": 6,
   "metadata": {},
   "outputs": [],
   "source": [
    "# creating vectorizer object in order to turn text into a vector of number\n",
    "vectorizer = TfidfVectorizer(ngram_range = (1,2),     # unigrams and bigrams\n",
    "                             lowercase =  True,       # avoid word differentiation by capitalization \n",
    "                             max_df = 0.95,           # remove very common words\n",
    "                             min_df = 0.05,           # remove very rare words\n",
    "                             max_features = 100)      # keep top 100 features"
   ]
  },
  {
   "cell_type": "code",
   "execution_count": 7,
   "metadata": {},
   "outputs": [],
   "source": [
    "# fit vector number to training data\n",
    "X_train_feats = vectorizer.fit_transform(X_train)\n",
    "\n",
    "# fit vector number to test data\n",
    "X_test_feats = vectorizer.transform(X_test)\n",
    "\n",
    "# get feature names\n",
    "feature_names = vectorizer.get_feature_names_out()\n"
   ]
  },
  {
   "cell_type": "code",
   "execution_count": 10,
   "metadata": {},
   "outputs": [],
   "source": [
    "# create neural network classifier \n",
    "classifier = MLPClassifier(activation = \"logistic\",\n",
    "                           hidden_layer_sizes = (20,),\n",
    "                           max_iter=1000,\n",
    "                           random_state = 42)"
   ]
  },
  {
   "cell_type": "code",
   "execution_count": 11,
   "metadata": {},
   "outputs": [],
   "source": [
    "# fit neural network classifier to training data\n",
    "classifier = classifier.fit(X_train_feats, y_train)"
   ]
  },
  {
   "cell_type": "code",
   "execution_count": 12,
   "metadata": {},
   "outputs": [
    {
     "name": "stdout",
     "output_type": "stream",
     "text": [
      "['FAKE' 'FAKE' 'FAKE' 'FAKE' 'FAKE' 'FAKE' 'REAL' 'FAKE' 'REAL' 'REAL'\n",
      " 'FAKE' 'REAL' 'REAL' 'FAKE' 'REAL' 'REAL' 'FAKE' 'REAL' 'REAL' 'REAL']\n"
     ]
    }
   ],
   "source": [
    "# test classifier on test data\n",
    "y_pred = classifier.predict(X_test_feats)\n",
    "print(y_pred[:20])"
   ]
  },
  {
   "cell_type": "code",
   "execution_count": 15,
   "metadata": {},
   "outputs": [
    {
     "data": {
      "text/plain": [
       "<sklearn.metrics._plot.confusion_matrix.ConfusionMatrixDisplay at 0x7fc43f6d92d0>"
      ]
     },
     "execution_count": 15,
     "metadata": {},
     "output_type": "execute_result"
    },
    {
     "data": {
      "image/png": "[encoded data removed]",
      "text/plain": [
       "<Figure size 640x480 with 2 Axes>"
      ]
     },
     "metadata": {},
     "output_type": "display_data"
    }
   ],
   "source": [
    "# evaluate model with confusion matrix\n",
    "metrics.ConfusionMatrixDisplay.from_estimator(classifier,           # the classifier name\n",
    "                                            X_train_feats,          # the training features\n",
    "                                            y_train,                # the training labels\n",
    "                                            cmap=plt.cm.Greens,      # make the colours prettier\n",
    "                                            labels=[\"FAKE\", \"REAL\"])# the labels in your data arranged alphabetically"
   ]
  },
  {
   "cell_type": "code",
   "execution_count": 16,
   "metadata": {},
   "outputs": [
    {
     "name": "stdout",
     "output_type": "stream",
     "text": [
      "              precision    recall  f1-score   support\n",
      "\n",
      "        FAKE       0.84      0.82      0.83       628\n",
      "        REAL       0.83      0.85      0.84       639\n",
      "\n",
      "    accuracy                           0.84      1267\n",
      "   macro avg       0.84      0.83      0.83      1267\n",
      "weighted avg       0.84      0.84      0.84      1267\n",
      "\n"
     ]
    }
   ],
   "source": [
    "# calculating classification report\n",
    "classifier_metrics = metrics.classification_report(y_test, y_pred)\n",
    "print(classifier_metrics)"
   ]
  },
  {
   "cell_type": "code",
   "execution_count": 17,
   "metadata": {},
   "outputs": [
    {
     "data": {
      "text/plain": [
       "['../models/LR_classifier.joblib']"
      ]
     },
     "execution_count": 17,
     "metadata": {},
     "output_type": "execute_result"
    }
   ],
   "source": [
    "# save model\n",
    "from joblib import dump, load\n",
    "dump(classifier, \"../models/LR_classifier.joblib\")"
   ]
  },
  {
   "cell_type": "code",
   "execution_count": null,
   "metadata": {},
   "outputs": [],
   "source": [
    "# save classification report\n",
    "f = open(\"../out/Classification_Report_NeuNet.txt\", \"w\")\n",
    "f.write(classifier_metrics)\n",
    "f.close()"
   ]
  }
 ],
 "metadata": {
  "kernelspec": {
   "display_name": "Python 3",
   "language": "python",
   "name": "python3"
  },
  "language_info": {
   "codemirror_mode": {
    "name": "ipython",
    "version": 3
   },
   "file_extension": ".py",
   "mimetype": "text/x-python",
   "name": "python",
   "nbconvert_exporter": "python",
   "pygments_lexer": "ipython3",
   "version": "3.10.12"
  }
 },
 "nbformat": 4,
 "nbformat_minor": 2
}
