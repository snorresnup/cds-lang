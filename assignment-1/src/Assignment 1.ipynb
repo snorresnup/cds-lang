{
 "cells": [
  {
   "cell_type": "markdown",
   "metadata": {},
   "source": [
    "# Assignment 1\n",
    "### Linguistic Analysis with ```spaCy```"
   ]
  },
  {
   "cell_type": "markdown",
   "metadata": {},
   "source": [
    "- Loop over each text file in the folder called ```in```\n",
    "- Extract the following information:\n",
    "    - Relative frequency of Nouns, Verbs, Adjective, and Adverbs per 10,000 words\n",
    "    - Total number of *unique* PER, LOC, ORGS\n",
    "- For each sub-folder (a1, a2, a3, ...) save a table which shows the following information:"
   ]
  },
  {
   "cell_type": "code",
   "execution_count": 2,
   "metadata": {},
   "outputs": [],
   "source": [
    "# import packages\n",
    "import spacy\n",
    "import pandas as pd\n",
    "import os\n",
    "nlp = spacy.load(\"en_core_web_md\")"
   ]
  },
  {
   "cell_type": "code",
   "execution_count": 3,
   "metadata": {},
   "outputs": [
    {
     "data": {
      "text/plain": [
       "'/work/Language Analytics/cds-lang/assignment-1/src'"
      ]
     },
     "execution_count": 3,
     "metadata": {},
     "output_type": "execute_result"
    }
   ],
   "source": [
    "# get current working directory\n",
    "os.getcwd()"
   ]
  },
  {
   "cell_type": "markdown",
   "metadata": {},
   "source": [
    "## Loop over eact text file"
   ]
  },
  {
   "cell_type": "code",
   "execution_count": 4,
   "metadata": {},
   "outputs": [],
   "source": [
    "# path to folders with data\n",
    "data_path = os.path.join(\"..\", \"in\", \"USEcorpus\")"
   ]
  },
  {
   "cell_type": "code",
   "execution_count": 5,
   "metadata": {},
   "outputs": [],
   "source": [
    "dirs = sorted(os.listdir(data_path))"
   ]
  },
  {
   "cell_type": "code",
   "execution_count": 7,
   "metadata": {},
   "outputs": [],
   "source": [
    "for directory in dirs:\n",
    "    subfolder = data_path +\"/\"+ directory\n",
    "    filenames = (sorted(os.listdir(subfolder)))\n",
    "    folder_info = []\n",
    "\n",
    "    for text_file in filenames:\n",
    "        path = (subfolder +\"/\"+ text_file)\n",
    "        # open it\n",
    "        with open(path, encoding = \"latin-1\") as f: text = f.read()\n",
    "        # add text files to doc\n",
    "        doc = nlp(text)\n",
    "        # create counters\n",
    "        noun_count = 0\n",
    "        verb_count = 0\n",
    "        adj_count = 0\n",
    "        adv_count = 0\n",
    "\n",
    "        # for loop: add 1 to counter\n",
    "        for token in doc:\n",
    "            if token.pos_ == \"NOUN\":\n",
    "                noun_count += 1\n",
    "            elif token.pos_ == \"VERB\":\n",
    "                verb_count += 1\n",
    "            elif token.pos_ == \"ADJ\":\n",
    "                adj_count += 1\n",
    "            elif token.pos_ == \"ADV\":\n",
    "                adv_count += 1\n",
    "\n",
    "        # relative frequencies\n",
    "        relative_freq_noun = round((noun_count/len(doc)) * 10000, 2)\n",
    "        relative_freq_verb = round((verb_count/len(doc)) * 10000, 2)\n",
    "        relative_freq_adj = round((adj_count/len(doc)) * 10000, 2)\n",
    "        relative_freq_adv = round((adv_count/len(doc)) * 10000, 2)\n",
    "\n",
    "        # extracting PER, LOC, ORGS\n",
    "        persons = set()\n",
    "        for ent in doc.ents:\n",
    "                if ent.label_ == 'PERSON':\n",
    "                    persons.add(ent.text)\n",
    "        num_persons = len(persons)\n",
    "\n",
    "        locations = set()\n",
    "        for ent in doc.ents:\n",
    "                if ent.label_ == 'LOC':\n",
    "                    locations.add(ent.text)\n",
    "        num_locations = len(locations)\n",
    "\n",
    "        organisations = set()\n",
    "        for ent in doc.ents:\n",
    "                if ent.label_ == 'ORGS':\n",
    "                    organisations.add(ent.text)\n",
    "        num_organisations = len(organisations)\n",
    "\n",
    "        file_info = [text_file, relative_freq_noun, relative_freq_verb, relative_freq_adj, relative_freq_adv, num_persons, num_locations, num_organisations]\n",
    "\n",
    "        folder_info.append(file_info)\n",
    "\n",
    "        df = pd.DataFrame(folder_info, \n",
    "                    columns=[\"Filename\", \"RelFreq Noun\", \"RelFreq VERB\", \"RelFreq ADJ\", \"RelFreq ADV\", \"Unique PER\", \"Unique LOC\", \"Unique ORGS\"])\n",
    "\n",
    "        outpath = os.path.join(\"..\", \"out\", directory + \".csv\")\n",
    "        df.to_csv(outpath)\n",
    "    \n",
    "    # concatenate alle dataframe in list for folder\n",
    "    \n",
    "\n",
    "    #df.to_csv(\"test.csv\")\n",
    "        \n"
   ]
  },
  {
   "cell_type": "code",
   "execution_count": null,
   "metadata": {},
   "outputs": [],
   "source": []
  }
 ],
 "metadata": {
  "kernelspec": {
   "display_name": "Python 3",
   "language": "python",
   "name": "python3"
  },
  "language_info": {
   "codemirror_mode": {
    "name": "ipython",
    "version": 3
   },
   "file_extension": ".py",
   "mimetype": "text/x-python",
   "name": "python",
   "nbconvert_exporter": "python",
   "pygments_lexer": "ipython3",
   "version": "3.10.12"
  }
 },
 "nbformat": 4,
 "nbformat_minor": 2
}
